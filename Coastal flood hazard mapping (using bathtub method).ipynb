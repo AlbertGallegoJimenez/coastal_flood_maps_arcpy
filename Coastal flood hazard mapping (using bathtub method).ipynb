{
 "cells": [
  {
   "cell_type": "markdown",
   "id": "ab11c413",
   "metadata": {},
   "source": [
    "# <center><ins> Coastal flood hazard mapping (using the bathtub method) </ins></center>\n",
    "\n",
    "This notebook aims to describe step-by-step the methodology followed for the creation of flooding maps using (1) a DTM (2) and a shapefile with the polygons of areas of influence. In this work, the flooding level is calculated by 100y return period for the **Total Water Level (TWL)**, understood as:\n",
    " \n",
    "$$ TWL = SWL + Ru $$\n",
    "where:\n",
    "<center> SWL: Still Water Level (astronomical tide + storm surge) </center>\n",
    "<center> Ru: Wave runup </center>\n",
    "\n",
    "<center><img src=\"images/TWL_scheme.png\" width=\"400\"></center>\n",
    "<center><i> Total Water Level scheme </i></center>\n",
    "\n",
    "### Previous TWL calculation methodology\n",
    "---\n",
    "The **Ru component** of the TWL is **calculated by means of semi-empirical formulae** having previously segmented the coastline into a certain number of stretches. According to the geomorphology type of each strech, it has been considered the following equations:\n",
    "<br/><br/>\n",
    "<center><img src=\"images/table-formulae.PNG\" width=\"500\"></center>\n",
    "\n",
    "<i> Equation 5.1 in EurOtop, 2018 for relatively gentle slopes in EurOtop, 2018. Manual on wave overtopping of sea defences and related structures. Van der Meer, J.W., Allsop, N.W.H., et al. www.overtopping-manual.com\n",
    "\n",
    "<i> Stockdon, H. F., Holman, R. A., Howd, P. A., & Sallenger Jr, A. H. (2006). Empirical parameterization of setup, swash, and runup. Coastal engineering, 53(7), 573-588. </i>\n",
    "\n",
    "\n",
    "### Flood maps generation methodology\n",
    "---\n",
    "The methodology used for flood mapping is the **\"bathtub approach\"**, which is a common and simple method for carrying out flood analysis in the coastal zone. The method basically consists of taking all pixels in a given area below a TWL value (100y return period value) and considering them as flooded. This process is computed for each coastal stretch where its particular potential flood exposure zone is considered."
   ]
  },
  {
   "cell_type": "markdown",
   "id": "b6f96b41",
   "metadata": {},
   "source": [
    "## Table of contents\n",
    "---\n",
    "1. [Load packages and set the local work environment](#First-section)\n",
    "2. [Do the operations within a for loop](#Second-section)\n",
    "3. [Merge all files into a single shapefile](#Third-section)"
   ]
  },
  {
   "cell_type": "markdown",
   "id": "b0f510a6",
   "metadata": {},
   "source": [
    "<br/>\n",
    "<div class=\"alert alert-warning\">\n",
    "  <strong>This notebook can only be run within ArcGIS Pro software. Any other Python IDE will not work.</strong>\n",
    "</div>"
   ]
  },
  {
   "cell_type": "markdown",
   "id": "a7b5c74a",
   "metadata": {},
   "source": [
    "## 1. Load packages and set the local work environment <a name=\"First-section\"></a>"
   ]
  },
  {
   "cell_type": "code",
   "execution_count": null,
   "id": "acc08c82",
   "metadata": {},
   "outputs": [],
   "source": [
    "import os, arcpy\n",
    "from arcpy.sa import *"
   ]
  },
  {
   "cell_type": "code",
   "execution_count": null,
   "id": "ce730661",
   "metadata": {},
   "outputs": [],
   "source": [
    "# File geodatabase\n",
    "workspace = r'D:\\Compartida_CCover\\Clima\\Total Water Level (TWL)\\GIS_outputs\\TWL.gdb'\n",
    "\n",
    "# DTM raster file that will be croped\n",
    "rasterDTM = r'D:\\Compartida_CCover\\Stakeholder_Data\\BN_Baseline\\BN2_PA_SIntegraM_DTM\\DTM_SIntegraM_Tiles_2kmbuffer\\DTM_all_tiles.tif' \n",
    "\n",
    "# Polygon Shapefile with Coastal Stretches segmentation\n",
    "maskShape = r'D:\\Compartida_CCover\\Clima\\Total Water Level (TWL)\\GIS_outputs\\TWL.gdb\\CoastalStretch_pol'\n",
    "\n",
    "# Relevant field names within the CS polygon shapefile\n",
    "maskField = u'CS_id'\n",
    "CU = u'CU_id'\n",
    "TWLField = u'TWL_100y_Tr'"
   ]
  },
  {
   "cell_type": "code",
   "execution_count": null,
   "id": "6c869bfc",
   "metadata": {},
   "outputs": [],
   "source": [
    "# Set work environment\n",
    "arcpy.env.workspace = workspace\n",
    "arcpy.env.scratchWorkspace = workspace\n",
    "arcpy.env.overwriteOutput = True\n",
    "\n",
    "aprx = arcpy.mp.ArcGISProject(\"CURRENT\")\n",
    "#aprxMap = aprx.listMaps(\"Map\")[0]"
   ]
  },
  {
   "cell_type": "markdown",
   "id": "0f503443",
   "metadata": {},
   "source": [
    "## 2. Do the operations within a for loop <a name=\"Second-section\"></a>"
   ]
  },
  {
   "cell_type": "code",
   "execution_count": null,
   "id": "150b0f9c",
   "metadata": {},
   "outputs": [],
   "source": [
    "for row in arcpy.da.SearchCursor(maskShape, ['SHAPE@', maskField, TWLField, CU]):\n",
    "    \n",
    "    # Create a name with the stretch ID\n",
    "    stretchName = \"CS_id_{}\".format(row[1])\n",
    "       \n",
    "    # Create Feature Layer of single CoastalStretch_ID\n",
    "    arcpy.analysis.Select(maskShape, \"{}\\\\{}\".format(workspace,\"tempFeature\"), stretchName)\n",
    "    \n",
    "    # Run Extract By Mask\n",
    "    extractOut = ExtractByMask(rasterDTM, \"tempFeature\")\n",
    "    extractOut.save(\"{}\\\\{}\".format(workspace, \"tempMDTRaster\"))\n",
    "    \n",
    "    # Put ones for the flooded values and zeros for the non-flooded values and save the raster\n",
    "    reclassOut = Reclassify(extractOut, \"VALUE\",\n",
    "                                     \"-9999 0 NODATA;0 \"+ str(row[2]) +\" 1;\"+ str(row[2]) +\" 9999 NODATA\",\n",
    "                                     \"DATA\")\n",
    "    reclassOut.save(\"{}\\\\{}\".format(workspace, \"tempReclassRaster\"))\n",
    "    \n",
    "    # Convert the raster into a polygon shapefile\n",
    "    TWLpol = arcpy.conversion.RasterToPolygon(reclassOut, \"tempRas2Pol\", \"SIMPLIFY\", \"Value\",\n",
    "                                              \"SINGLE_OUTER_PART\", None)\n",
    "    \n",
    "    # Dissolve the features of each shape into one single feature\n",
    "    TWLpoldiss = arcpy.management.Dissolve(TWLpol, \"{}\\\\{}\".format(workspace, \"TWL_\"+stretchName),\n",
    "                                           None, None, \"MULTI_PART\", \"DISSOLVE_LINES\")\n",
    "    \n",
    "    # Add 3 fields to the new shapefile: CU_id, CS_id and TWL\n",
    "    arcpy.AddField_management(TWLpoldiss,\"CU_id\",\"TEXT\", field_length=10)\n",
    "    arcpy.CalculateField_management(TWLpoldiss, \"CU_id\", row[3], \"PYTHON3\")\n",
    "    arcpy.AddField_management(TWLpoldiss, \"CS_id\", \"Integer\")\n",
    "    arcpy.CalculateField_management(TWLpoldiss, \"CS_id\", row[1], \"PYTHON3\")\n",
    "    arcpy.AddField_management(TWLpoldiss, \"TWL\", \"DOUBLE\")\n",
    "    arcpy.CalculateField_management(TWLpoldiss, \"TWL\", row[2], \"PYTHON3\")\n",
    "    \n",
    "    # Remove the layers that will be automatically loaded into the Contents\n",
    "    layers = aprxMap.listLayers()\n",
    "    for layer in layers:\n",
    "        if layer.name == \"TWL_\"+stretchName:\n",
    "            aprxMap.removeLayer(layer)\n",
    "            \n",
    "    print(\"Coastal Stretch {0} finished\".format(row[1]))\n",
    "    \n",
    "print('All Coastal Stretches have been completed.')"
   ]
  },
  {
   "cell_type": "markdown",
   "id": "eda506e3",
   "metadata": {},
   "source": [
    "## 3. Merge all files into one single shapefile  <a name=\"Third-section\"></a>"
   ]
  },
  {
   "cell_type": "code",
   "execution_count": null,
   "id": "abfb9d7f",
   "metadata": {},
   "outputs": [],
   "source": [
    "feature_classes = [] # Empty list where the filenames to be merged will be\n",
    "walk = arcpy.da.Walk(workspace, datatype=\"FeatureClass\") # Object to iterate\n",
    "\n",
    "for dirpath, dirnames, filenames in walk:\n",
    "    for filename in filenames:\n",
    "        if \"TWL_CS_id_\" in filename:\n",
    "            feature_classes.append(os.path.join(dirpath, filename))\n",
    "\n",
    "arcpy.Merge_management(feature_classes, workspace+\"/FloodingMap\")"
   ]
  },
  {
   "cell_type": "markdown",
   "id": "91a92259",
   "metadata": {},
   "source": [
    "See an example of the final file:\n",
    "<center><img src=\"images/example-map-flooding.png\" width=\"500\"></center>"
   ]
  }
 ],
 "metadata": {
  "kernelspec": {
   "display_name": "Python 3 (ipykernel)",
   "language": "python",
   "name": "python3"
  },
  "language_info": {
   "codemirror_mode": {
    "name": "ipython",
    "version": 3
   },
   "file_extension": ".py",
   "mimetype": "text/x-python",
   "name": "python",
   "nbconvert_exporter": "python",
   "pygments_lexer": "ipython3",
   "version": "3.8.8"
  }
 },
 "nbformat": 4,
 "nbformat_minor": 5
}
