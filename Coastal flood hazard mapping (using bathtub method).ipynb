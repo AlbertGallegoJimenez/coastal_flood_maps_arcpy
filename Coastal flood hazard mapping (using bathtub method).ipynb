{
 "cells": [
  {
   "cell_type": "markdown",
   "id": "15b7bfb5",
   "metadata": {},
   "source": [
    "# <center><ins> Coastal flood hazard mapping (using bathtub method) </ins></center>\n",
    "\n",
    "This notebook aims to describe step-by-step the methodology followed for the creation of flooding maps using (1) a DTM (2) and a shapefile with the polygons of areas of influence.\n",
    " In this example, the flooding level is calculated by 100y return period for the **Total Water Level (TWL)**, understood as:\n",
    " \n",
    "$$ TWL = SWL + Ru $$\n",
    "where:\n",
    "<center> SWL: Still Water Level (astronomical tide + storm surge) </center>\n",
    "<center> Ru: Wave runup </center>\n",
    "\n",
    "<center><img src=\"images/TWL_scheme.png\" width=\"400\"></center>\n",
    "<center><i> Total Water Level scheme </i></center>\n",
    "\n",
    "### TWL calculation methodology\n",
    "The **Ru component** of the TWL have been **calculated by sempi-empirical formulae** having previously segmented the coastline into 417 stretches. According to the geomorphology type of each strech, it has been considered the following equations:\n",
    "<br/><br/>\n",
    "<center><img src=\"images/table-formulae.png\" width=\"500\"></center>\n",
    "\n",
    "<i> Equation 5.1 in EurOtop, 2018 for relatively gentle slopes in EurOtop, 2018. Manual on wave overtopping of sea defences and related structures. Van der Meer, J.W., Allsop, N.W.H., et al. www.overtopping-manual.com\n",
    "\n",
    "<i> Stockdon, H. F., Holman, R. A., Howd, P. A., & Sallenger Jr, A. H. (2006). Empirical parameterization of setup, swash, and runup. Coastal engineering, 53(7), 573-588. </i>\n",
    "\n",
    "\n",
    "### Flood maps generation methodology\n",
    "The **methodology** selected for **flood mapping** is the **\"bathtub approach\"**, which is a common and simple method for carrying out flood analysis in the coastal zone. The method basically consists of taking all pixels in a given area below a TWL value and considering them as flooded."
   ]
  },
  {
   "cell_type": "markdown",
   "id": "a242b88d",
   "metadata": {},
   "source": [
    "<div class=\"alert alert-warning\">\n",
    "  <strong>This notebook can only be run in the ArcGIS Pro Python window. Any other Python IDE will not work.</strong>\n",
    "</div>\n",
    "<br/>\n",
    "<center><img src=\"images/python-window-arcgis-pro.png\" width=\"300\"></center>"
   ]
  },
  {
   "cell_type": "markdown",
   "id": "ca5f6ab1",
   "metadata": {},
   "source": [
    "### Load the required libraries and set the local work environment"
   ]
  },
  {
   "cell_type": "code",
   "execution_count": 5,
   "id": "51a5cefc",
   "metadata": {},
   "outputs": [],
   "source": [
    "import arcpy\n",
    "from arcpy.sa import *\n",
    "import os"
   ]
  },
  {
   "cell_type": "code",
   "execution_count": 2,
   "id": "27583300",
   "metadata": {},
   "outputs": [],
   "source": [
    "# File geodatabase\n",
    "workspace = r'D:\\Compartida_CCover\\Clima\\Total Water Level (TWL)\\GIS_outputs\\TWL.gdb'\n",
    "\n",
    "# DTM raster file that will be croped\n",
    "rasterDTM = r'D:\\Compartida_CCover\\Stakeholder_Data\\BN_Baseline\\BN2_PA_SIntegraM_DTM\\DTM_SIntegraM_Tiles_2kmbuffer\\DTM_all_tiles.tif' \n",
    "\n",
    "# Polygon Shapefile with Coastal Stretches segmentation\n",
    "maskShape = r'D:\\Compartida_CCover\\Clima\\Total Water Level (TWL)\\GIS_outputs\\TWL.gdb\\CoastalStretch_pol'\n",
    "\n",
    "# Relevant field names within the CS polygon shapefile\n",
    "maskField = u'CS_id'\n",
    "CU = u'CU_id'\n",
    "TWLField = u'TWL_100y_Tr'"
   ]
  },
  {
   "cell_type": "code",
   "execution_count": 3,
   "id": "9bbde8cc",
   "metadata": {},
   "outputs": [],
   "source": [
    "# Set work environment\n",
    "arcpy.env.workspace = workspace\n",
    "arcpy.env.scratchWorkspace = workspace\n",
    "arcpy.env.overwriteOutput = True\n",
    "\n",
    "aprx = arcpy.mp.ArcGISProject(\"CURRENT\")\n",
    "#aprxMap = aprx.listMaps(\"Map\")[0]"
   ]
  },
  {
   "cell_type": "markdown",
   "id": "40ab9095",
   "metadata": {},
   "source": [
    "### Do the operations within a for loop "
   ]
  },
  {
   "cell_type": "code",
   "execution_count": null,
   "id": "260a135f",
   "metadata": {},
   "outputs": [],
   "source": [
    "for row in arcpy.da.SearchCursor(maskShape, ['SHAPE@', maskField, TWLField, CU]):\n",
    "    \n",
    "    # Create a name with the stretch ID\n",
    "    stretchName = \"CS_id_{}\".format(row[1])\n",
    "       \n",
    "    # Create Feature Layer of single CoastalStretch_ID\n",
    "    arcpy.analysis.Select(maskShape, \"{}\\\\{}\".format(workspace,\"tempFeature\"), stretchName)\n",
    "    \n",
    "    # Run Extract By Mask\n",
    "    extractOut = ExtractByMask(rasterDTM, \"tempFeature\")\n",
    "    extractOut.save(\"{}\\\\{}\".format(workspace, \"tempMDTRaster\"))\n",
    "    \n",
    "    # Put ones for the flooded values and zeros for the non-flooded values and save the raster\n",
    "    reclassOut = arcpy.sa.Reclassify(extractOut, \"VALUE\",\n",
    "                                     \"-9999 0 NODATA;0 \"+ str(row[2]) +\" 1;\"+ str(row[2]) +\" 9999 NODATA\",\n",
    "                                     \"DATA\")\n",
    "    reclassOut.save(\"{}\\\\{}\".format(workspace, \"tempReclassRaster\"))\n",
    "    \n",
    "    # Convert the raster into a polygon shapefile\n",
    "    TWLpol = arcpy.conversion.RasterToPolygon(reclassOut, \"tempRas2Pol\", \"SIMPLIFY\", \"Value\",\n",
    "                                              \"SINGLE_OUTER_PART\", None)\n",
    "    \n",
    "    # Dissolve the features of each shape into one single feature\n",
    "    TWLpoldiss = arcpy.management.Dissolve(TWLpol, \"{}\\\\{}\".format(workspace, \"TWL_\"+stretchName),\n",
    "                                           None, None, \"MULTI_PART\", \"DISSOLVE_LINES\")\n",
    "    \n",
    "    # Add 3 fields to the new shapefile: CU_id, CS_id and TWL\n",
    "    arcpy.AddField_management(TWLpoldiss,\"CU_id\",\"TEXT\", field_length=10)\n",
    "    arcpy.CalculateField_management(TWLpoldiss, \"CU_id\", row[3], \"PYTHON3\")\n",
    "    arcpy.AddField_management(TWLpoldiss, \"CS_id\", \"Integer\")\n",
    "    arcpy.CalculateField_management(TWLpoldiss, \"CS_id\", row[1], \"PYTHON3\")\n",
    "    arcpy.AddField_management(TWLpoldiss, \"TWL\", \"DOUBLE\")\n",
    "    arcpy.CalculateField_management(TWLpoldiss, \"TWL\", row[2], \"PYTHON3\")\n",
    "    \n",
    "    # Remove the layers that will be automatically loaded into the Contents\n",
    "    layers = aprxMap.listLayers()\n",
    "    for layer in layers:\n",
    "        if layer.name == \"TWL_\"+stretchName:\n",
    "            aprxMap.removeLayer(layer)\n",
    "            \n",
    "    print(\"Coastal Stretch {0} finished\".format(row[1]))\n",
    "    \n",
    "print('All Coastal Stretches have been finished.')"
   ]
  },
  {
   "cell_type": "code",
   "execution_count": 6,
   "id": "3db9b1ac",
   "metadata": {},
   "outputs": [],
   "source": [
    "# Merge all individual shapefiles into one\n",
    "feature_classes = [] # Empty list where the filenames to be merged will be\n",
    "walk = arcpy.da.Walk(workspace, datatype=\"FeatureClass\") # Object to iterate\n",
    "\n",
    "for dirpath, dirnames, filenames in walk:\n",
    "    for filename in filenames:\n",
    "        if \"TWL_CS_id_\" in filename:\n",
    "            feature_classes.append(os.path.join(dirpath, filename))\n",
    "\n",
    "arcpy.Merge_management(feature_classes, workspace+\"/FloodingMap\")"
   ]
  },
  {
   "cell_type": "markdown",
   "id": "b1af2c3f",
   "metadata": {},
   "source": [
    "See an example of the final file\n",
    "<center><img src=\"images/example-map-flooding.png\" width=\"500\"></center>"
   ]
  }
 ],
 "metadata": {
  "kernelspec": {
   "display_name": "Python 3 (ipykernel)",
   "language": "python",
   "name": "python3"
  },
  "language_info": {
   "codemirror_mode": {
    "name": "ipython",
    "version": 3
   },
   "file_extension": ".py",
   "mimetype": "text/x-python",
   "name": "python",
   "nbconvert_exporter": "python",
   "pygments_lexer": "ipython3",
   "version": "3.8.8"
  }
 },
 "nbformat": 4,
 "nbformat_minor": 5
}
